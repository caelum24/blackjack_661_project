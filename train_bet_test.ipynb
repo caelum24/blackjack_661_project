{
 "cells": [
  {
   "cell_type": "code",
   "execution_count": 6,
   "id": "d63c3067",
   "metadata": {},
   "outputs": [
    {
     "name": "stdout",
     "output_type": "stream",
     "text": [
      "Episode 1000/10000 — Last Reward: -1.00 — Count State: (1.0,)\n",
      "Episode 2000/10000 — Last Reward: 1.00 — Count State: (-2.0,)\n",
      "Episode 3000/10000 — Last Reward: 1.00 — Count State: (-1.0,)\n",
      "Episode 4000/10000 — Last Reward: 1.00 — Count State: (2.0,)\n",
      "Episode 5000/10000 — Last Reward: 1.00 — Count State: (-0.0,)\n",
      "Episode 6000/10000 — Last Reward: 1.00 — Count State: (1.0,)\n",
      "Episode 7000/10000 — Last Reward: 1.00 — Count State: (2.0,)\n",
      "Episode 8000/10000 — Last Reward: -1.00 — Count State: (-1.0,)\n",
      "Episode 9000/10000 — Last Reward: -1.00 — Count State: (0.0,)\n",
      "Episode 10000/10000 — Last Reward: -1.00 — Count State: (-1.0,)\n",
      "{(-0.0,): [0.35196850393700874, 0.5173228346456676, 0.13070866141732296, 2540.0], (-1.0,): [0.38062500000000044, 0.466875, 0.15249999999999977, 1600.0], (1.0,): [0.3700787401574803, 0.5118110236220463, 0.11811023622047244, 1651.0], (2.0,): [0.36244019138756006, 0.503588516746412, 0.1339712918660288, 836.0], (-2.0,): [0.39075630252100807, 0.45588235294117646, 0.15336134453781528, 952.0], (-3.0,): [0.34879725085910684, 0.5274914089347081, 0.12371134020618559, 582.0], (-4.0,): [0.36746987951807236, 0.4608433734939759, 0.1716867469879519, 332.0], (-5.0,): [0.4022346368715084, 0.4692737430167598, 0.1284916201117318, 179.0], (-6.0,): [0.4351851851851852, 0.39814814814814814, 0.16666666666666666, 108.0], (-7.0,): [0.36363636363636365, 0.5681818181818182, 0.06818181818181818, 44.0], (3.0,): [0.3722943722943723, 0.5021645021645018, 0.1255411255411256, 462.0], (5.0,): [0.43137254901960786, 0.5032679738562092, 0.06535947712418301, 153.0], (6.0,): [0.4725274725274725, 0.42857142857142866, 0.0989010989010989, 91.0], (4.0,): [0.4006734006734005, 0.49158249158249184, 0.10774410774410774, 297.0], (7.0,): [0.37142857142857144, 0.4857142857142858, 0.14285714285714285, 35.0], (8.0,): [0.2903225806451613, 0.5161290322580645, 0.1935483870967742, 31.0], (-8.0,): [0.32142857142857145, 0.5357142857142857, 0.14285714285714285, 28.0], (-9.0,): [0.6153846153846154, 0.23076923076923078, 0.15384615384615385, 13.0], (-11.0,): [0.5555555555555556, 0.2222222222222222, 0.2222222222222222, 9.0], (-10.0,): [0.38461538461538464, 0.46153846153846156, 0.15384615384615385, 13.0], (-12.0,): [0.42857142857142855, 0.42857142857142855, 0.14285714285714285, 7.0], (9.0,): [0.2777777777777778, 0.5555555555555556, 0.16666666666666666, 18.0], (10.0,): [0.38461538461538464, 0.5384615384615384, 0.07692307692307693, 13.0], (11.0,): [0.0, 1.0, 0.0, 1.0], (12.0,): [0.5, 0.5, 0.0, 2.0], (13.0,): [0.3333333333333333, 0.3333333333333333, 0.3333333333333333, 3.0]}\n"
     ]
    }
   ],
   "source": [
    "from split_environment import BlackjackEnv\n",
    "from basic_strategy_agent import BasicStrategyAgent\n",
    "from split_train_agent import evaluate_agent\n",
    "from Supervised_betting import collect_dictionary\n",
    "from Supervised_betting import evaluate_nn_betting_agent\n",
    "from BettingModel import train_betting_nn\n",
    "from HiloAgent import HiLoBettingAgent\n",
    "\n",
    "count_type = \"hi_lo\"\n",
    "env = BlackjackEnv(count_type = \"full\")\n",
    "agent = BasicStrategyAgent()\n",
    "\n",
    "#model = HiLoBettingAgent(base_bet=1, max_units=100)\n",
    "\n",
    "dictionary = collect_dictionary(agent, env, count_type, 10000)\n",
    "print(dictionary)\n",
    "\n",
    "#model = train_betting_nn(dictionary, count_type, batch_size=64, epochs=1000)\n",
    "#evaluate_nn_betting_agent(model, agent, env, count_type=count_type, episodes = 100000, max_bet = 100, min_bet = 1)"
   ]
  },
  {
   "cell_type": "code",
   "execution_count": 5,
   "id": "1d7cde33",
   "metadata": {},
   "outputs": [
    {
     "name": "stdout",
     "output_type": "stream",
     "text": [
      "Epoch 1/10000, Loss: 1.0630\n",
      "Epoch 1001/10000, Loss: 1.0029\n",
      "Epoch 2001/10000, Loss: 0.9970\n",
      "Epoch 3001/10000, Loss: 0.9924\n",
      "Epoch 4001/10000, Loss: 0.9910\n",
      "Epoch 5001/10000, Loss: 0.9904\n",
      "Epoch 6001/10000, Loss: 0.9901\n",
      "Epoch 7001/10000, Loss: 0.9899\n",
      "Epoch 8001/10000, Loss: 0.9899\n",
      "Epoch 9001/10000, Loss: 0.9899\n",
      "\n",
      "Evaluation over 10000 episodes:\n",
      "Average profit per hand: -0.1173\n",
      "Win rate: 0.3651\n",
      "Loss rate: 0.4956\n",
      "Push rate: 0.1393\n"
     ]
    },
    {
     "data": {
      "text/plain": [
       "-0.1173"
      ]
     },
     "execution_count": 5,
     "metadata": {},
     "output_type": "execute_result"
    }
   ],
   "source": [
    "model = train_betting_nn(dictionary, count_type, batch_size=64, epochs=10000)\n",
    "evaluate_nn_betting_agent(model, agent, env, count_type=count_type, episodes = 10000, max_bet = 100, min_bet = 1)"
   ]
  },
  {
   "cell_type": "code",
   "execution_count": 2,
   "id": "032d6f48",
   "metadata": {},
   "outputs": [
    {
     "ename": "ValueError",
     "evalue": "SOMETHING ILLEGAL HAS HAPPENED. Action = 2",
     "output_type": "error",
     "traceback": [
      "\u001b[0;31m---------------------------------------------------------------------------\u001b[0m",
      "\u001b[0;31mValueError\u001b[0m                                Traceback (most recent call last)",
      "Cell \u001b[0;32mIn[2], line 14\u001b[0m\n\u001b[1;32m     11\u001b[0m env \u001b[38;5;241m=\u001b[39m BlackjackEnv(count_type \u001b[38;5;241m=\u001b[39m \u001b[38;5;124m\"\u001b[39m\u001b[38;5;124mfull\u001b[39m\u001b[38;5;124m\"\u001b[39m)\n\u001b[1;32m     12\u001b[0m agent \u001b[38;5;241m=\u001b[39m BasicStrategyAgent()\n\u001b[0;32m---> 14\u001b[0m evaluate_agent(agent, env, episodes\u001b[38;5;241m=\u001b[39m\u001b[38;5;241m10000\u001b[39m)\n",
      "File \u001b[0;32m~/Desktop/BlackJack/blackjack_661_project-1/split_train_agent.py:167\u001b[0m, in \u001b[0;36mevaluate_agent\u001b[0;34m(agent, env, episodes)\u001b[0m\n\u001b[1;32m    164\u001b[0m \u001b[38;5;28;01mwhile\u001b[39;00m done \u001b[38;5;241m!=\u001b[39m \u001b[38;5;241m2\u001b[39m:\n\u001b[1;32m    166\u001b[0m     action \u001b[38;5;241m=\u001b[39m agent\u001b[38;5;241m.\u001b[39mact(state)\n\u001b[0;32m--> 167\u001b[0m     next_state, _, done \u001b[38;5;241m=\u001b[39m env\u001b[38;5;241m.\u001b[39mstep(action)\n\u001b[1;32m    169\u001b[0m     state \u001b[38;5;241m=\u001b[39m next_state\n\u001b[1;32m    171\u001b[0m episode_reward \u001b[38;5;241m=\u001b[39m \u001b[38;5;28msum\u001b[39m(env\u001b[38;5;241m.\u001b[39mdeliver_rewards())\n",
      "File \u001b[0;32m~/Desktop/BlackJack/blackjack_661_project-1/split_environment.py:129\u001b[0m, in \u001b[0;36mBlackjackEnv.step\u001b[0;34m(self, action)\u001b[0m\n\u001b[1;32m    126\u001b[0m     \u001b[38;5;28;01mreturn\u001b[39;00m \u001b[38;5;28mself\u001b[39m\u001b[38;5;241m.\u001b[39m_split()\n\u001b[1;32m    128\u001b[0m \u001b[38;5;28;01melse\u001b[39;00m:\n\u001b[0;32m--> 129\u001b[0m     \u001b[38;5;28;01mraise\u001b[39;00m \u001b[38;5;167;01mValueError\u001b[39;00m(\u001b[38;5;124mf\u001b[39m\u001b[38;5;124m\"\u001b[39m\u001b[38;5;124mSOMETHING ILLEGAL HAS HAPPENED. Action = \u001b[39m\u001b[38;5;132;01m{\u001b[39;00maction\u001b[38;5;132;01m}\u001b[39;00m\u001b[38;5;124m\"\u001b[39m)\n",
      "\u001b[0;31mValueError\u001b[0m: SOMETHING ILLEGAL HAS HAPPENED. Action = 2"
     ]
    }
   ],
   "source": [
    "from split_environment import BlackjackEnv\n",
    "from basic_strategy_agent import BasicStrategyAgent\n",
    "from split_train_agent import evaluate_agent\n",
    "from Supervised_betting import collect_dictionary\n",
    "from Supervised_betting import evaluate_nn_betting_agent\n",
    "from BettingModel import train_betting_nn\n",
    "from HiloAgent import HiLoBettingAgent\n",
    "from basic_strategy_agent import compare_with_basic_strategy\n",
    "\n",
    "count_type = \"hi_lo\"\n",
    "env = BlackjackEnv(count_type = \"full\")\n",
    "agent = BasicStrategyAgent()\n",
    "\n",
    "evaluate_agent(agent, env, episodes=10000)"
   ]
  }
 ],
 "metadata": {
  "kernelspec": {
   "display_name": "base",
   "language": "python",
   "name": "python3"
  },
  "language_info": {
   "codemirror_mode": {
    "name": "ipython",
    "version": 3
   },
   "file_extension": ".py",
   "mimetype": "text/x-python",
   "name": "python",
   "nbconvert_exporter": "python",
   "pygments_lexer": "ipython3",
   "version": "3.12.7"
  }
 },
 "nbformat": 4,
 "nbformat_minor": 5
}
